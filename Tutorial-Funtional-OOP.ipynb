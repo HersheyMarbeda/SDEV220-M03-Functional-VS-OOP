{
 "cells": [
  {
   "cell_type": "markdown",
   "metadata": {},
   "source": [
    "# M03 Tutorial-Tutorial vs OOP Programming\n",
    "- Programmer: Hershey Marbeda\n",
    "- Instructor: Mr. Zachary Hamby\n",
    "- Due Date: 11.12.2024"
   ]
  },
  {
   "cell_type": "markdown",
   "metadata": {},
   "source": [
    "## Exercise #1: Sort 0s, 1s, and 2s"
   ]
  },
  {
   "cell_type": "code",
   "execution_count": 3,
   "metadata": {},
   "outputs": [
    {
     "name": "stdout",
     "output_type": "stream",
     "text": [
      "\n",
      "Exerise #1: Sort 0s, 1s, and 2s in Ascending Order \n",
      "Test case 1:\n",
      "Original array: [0, 1, 2, 0, 1, 2]\n",
      "Sorted array: [0, 0, 1, 1, 2, 2]\n",
      "\n",
      "Test case 2:\n",
      "Original array: [2, 1, 0, 0, 1, 2]\n",
      "Sorted array: [0, 0, 1, 1, 2, 2]\n"
     ]
    }
   ],
   "source": [
    "# Function to sort the array of 0s, 1s, and 2s\n",
    "def sort012(arr, n):\n",
    "    # Initialize the count of 0s, 1s, and 2s\n",
    "    count0 = 0\n",
    "    count1 = 0\n",
    "    count2 = 0\n",
    "\n",
    "    # Count the number of 0s, 1s, and 2s in the array\n",
    "    for i in range(n):\n",
    "        if arr[i] == 0:\n",
    "            count0 += 1\n",
    "        elif arr[i] == 1:\n",
    "            count1 += 1\n",
    "        else:\n",
    "            count2 += 1\n",
    "\n",
    "    # Update the array with the sorted values\n",
    "    i = 0\n",
    "    while count0 > 0:\n",
    "        arr[i] = 0\n",
    "        i += 1\n",
    "        count0 -= 1\n",
    "\n",
    "    while count1 > 0:\n",
    "        arr[i] = 1\n",
    "        i += 1\n",
    "        count1 -= 1\n",
    "\n",
    "    while count2 > 0:\n",
    "        arr[i] = 2\n",
    "        i += 1\n",
    "        count2 -= 1\n",
    "        \n",
    "    return arr\n",
    "\n",
    "# Main function\n",
    "if __name__ == \"__main__\":\n",
    "    # Test case 1\n",
    "    arr1 = [0, 1, 2, 0, 1, 2]\n",
    "    n1 = len(arr1)\n",
    "    print(\"\\nExerise #1: Sort 0s, 1s, and 2s in Ascending Order\",\"\\nTest case 1:\")\n",
    "    print(\"Original array:\", arr1)\n",
    "    print(\"Sorted array:\", sort012(arr1, n1))\n",
    "\n",
    "    # Test case 2\n",
    "    arr2 = [2, 1, 0, 0, 1, 2]\n",
    "    n2 = len(arr2)\n",
    "    print(\"\\nTest case 2:\")\n",
    "    print(\"Original array:\", arr2)\n",
    "    print(\"Sorted array:\", sort012(arr2, n2))"
   ]
  },
  {
   "cell_type": "markdown",
   "metadata": {},
   "source": [
    "## Exercise #2: Binary Search"
   ]
  },
  {
   "cell_type": "code",
   "execution_count": 5,
   "metadata": {},
   "outputs": [
    {
     "name": "stdout",
     "output_type": "stream",
     "text": [
      "\n",
      "Exercise #2: Binary Search \n",
      "Test case 1:\n",
      "Array: [1, 2, 3, 4, 5, 6, 7, 8, 9]\n",
      "Element 5 is present at index: 4\n",
      "\n",
      "Test case 2:\n",
      "Array: [10, 20, 30, 40, 50, 60, 70, 80, 90]\n",
      "Element 70 is present at index: 6 \n",
      "\n"
     ]
    }
   ],
   "source": [
    "def binary_search(arr, k):\n",
    "    low = 0\n",
    "    high = len(arr) - 1\n",
    "\n",
    "    while low <= high:\n",
    "        mid = (low + high) // 2\n",
    "\n",
    "        if arr[mid] == k:\n",
    "            return mid\n",
    "        elif arr[mid] < k:\n",
    "            low = mid + 1\n",
    "        else:\n",
    "            high = mid - 1\n",
    "\n",
    "    return -1\n",
    "\n",
    "# Main function\n",
    "if __name__ == \"__main__\":\n",
    "    # Test case 1\n",
    "    arr1 = [1, 2, 3, 4, 5, 6, 7, 8, 9]\n",
    "    k1 = 5\n",
    "    print(\"\\nExercise #2: Binary Search\",\"\\nTest case 1:\")\n",
    "    print(\"Array:\", arr1)\n",
    "    print(\"Element\", k1, \"is present at index:\", binary_search(arr1, k1))\n",
    "\n",
    "    # Test case 2\n",
    "    arr2 = [10, 20, 30, 40, 50, 60, 70, 80, 90]\n",
    "    k2 = 70\n",
    "    print(\"\\nTest case 2:\")\n",
    "    print(\"Array:\", arr2)\n",
    "    print(\"Element\", k2, \"is present at index:\", binary_search(arr2, k2), \"\\n\")"
   ]
  }
 ],
 "metadata": {
  "kernelspec": {
   "display_name": "Python 3",
   "language": "python",
   "name": "python3"
  },
  "language_info": {
   "codemirror_mode": {
    "name": "ipython",
    "version": 3
   },
   "file_extension": ".py",
   "mimetype": "text/x-python",
   "name": "python",
   "nbconvert_exporter": "python",
   "pygments_lexer": "ipython3",
   "version": "3.9.6"
  }
 },
 "nbformat": 4,
 "nbformat_minor": 2
}
